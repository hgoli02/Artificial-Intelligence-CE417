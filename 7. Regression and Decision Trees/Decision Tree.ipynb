{
 "cells": [
  {
   "attachments": {},
   "cell_type": "markdown",
   "id": "6973c7b3",
   "metadata": {},
   "source": [
    "# AI Fall 2022 - A4 - Decision Tree\n",
    "## Your info\n",
    "\n",
    "**Student Name:** Hossein Goli\n",
    "\n",
    "**Student Id:** 99102123"
   ]
  },
  {
   "cell_type": "markdown",
   "id": "583aa5d3",
   "metadata": {},
   "source": [
    "## Practical Question - Decision Tree (25 + 5 points)\n",
    "In this question you will first write a program to find an appropriate order of features for training a decision tree based on information gain. In the second part, you will use existing implementations to train and tune a classifier using GridSearch on the given dataset. And try to finish this in <15 mins."
   ]
  },
  {
   "cell_type": "markdown",
   "id": "2ac5a6c8",
   "metadata": {},
   "source": [
    "### Import\n",
    "Import the libraries you need in the next cell."
   ]
  },
  {
   "cell_type": "code",
   "execution_count": 138,
   "id": "3b6cef51",
   "metadata": {},
   "outputs": [],
   "source": [
    "import pandas as pd\n",
    "import numpy as np\n",
    "import matplotlib.pyplot as plt\n",
    "from math import log2\n",
    "from sklearn.model_selection import train_test_split\n",
    "from sklearn.tree import DecisionTreeClassifier\n",
    "from sklearn.model_selection import GridSearchCV\n",
    "from sklearn.metrics import accuracy_score\n",
    "from sklearn.tree import plot_tree"
   ]
  },
  {
   "cell_type": "markdown",
   "id": "63dcc062",
   "metadata": {},
   "source": [
    "### Part A (20 points)\n",
    "Consider the following dataframe and answer the following questions:"
   ]
  },
  {
   "cell_type": "code",
   "execution_count": 139,
   "id": "bfb62d6e",
   "metadata": {},
   "outputs": [
    {
     "data": {
      "text/html": [
       "<div>\n",
       "<style scoped>\n",
       "    .dataframe tbody tr th:only-of-type {\n",
       "        vertical-align: middle;\n",
       "    }\n",
       "\n",
       "    .dataframe tbody tr th {\n",
       "        vertical-align: top;\n",
       "    }\n",
       "\n",
       "    .dataframe thead th {\n",
       "        text-align: right;\n",
       "    }\n",
       "</style>\n",
       "<table border=\"1\" class=\"dataframe\">\n",
       "  <thead>\n",
       "    <tr style=\"text-align: right;\">\n",
       "      <th></th>\n",
       "      <th>Race</th>\n",
       "      <th>Sex</th>\n",
       "      <th>Age</th>\n",
       "      <th>BMI</th>\n",
       "      <th>Smoker</th>\n",
       "      <th>Label</th>\n",
       "    </tr>\n",
       "  </thead>\n",
       "  <tbody>\n",
       "    <tr>\n",
       "      <th>0</th>\n",
       "      <td>1.0</td>\n",
       "      <td>1.0</td>\n",
       "      <td>43.0</td>\n",
       "      <td>25.803</td>\n",
       "      <td>1.0</td>\n",
       "      <td>False</td>\n",
       "    </tr>\n",
       "    <tr>\n",
       "      <th>1</th>\n",
       "      <td>2.0</td>\n",
       "      <td>2.0</td>\n",
       "      <td>72.0</td>\n",
       "      <td>33.394</td>\n",
       "      <td>0.0</td>\n",
       "      <td>True</td>\n",
       "    </tr>\n",
       "    <tr>\n",
       "      <th>2</th>\n",
       "      <td>1.0</td>\n",
       "      <td>2.0</td>\n",
       "      <td>4.0</td>\n",
       "      <td>20.278</td>\n",
       "      <td>1.0</td>\n",
       "      <td>False</td>\n",
       "    </tr>\n",
       "    <tr>\n",
       "      <th>3</th>\n",
       "      <td>1.0</td>\n",
       "      <td>2.0</td>\n",
       "      <td>59.0</td>\n",
       "      <td>32.918</td>\n",
       "      <td>0.0</td>\n",
       "      <td>False</td>\n",
       "    </tr>\n",
       "    <tr>\n",
       "      <th>4</th>\n",
       "      <td>1.0</td>\n",
       "      <td>2.0</td>\n",
       "      <td>34.0</td>\n",
       "      <td>30.743</td>\n",
       "      <td>1.0</td>\n",
       "      <td>False</td>\n",
       "    </tr>\n",
       "  </tbody>\n",
       "</table>\n",
       "</div>"
      ],
      "text/plain": [
       "   Race  Sex   Age     BMI  Smoker  Label\n",
       "0   1.0  1.0  43.0  25.803     1.0  False\n",
       "1   2.0  2.0  72.0  33.394     0.0   True\n",
       "2   1.0  2.0   4.0  20.278     1.0  False\n",
       "3   1.0  2.0  59.0  32.918     0.0  False\n",
       "4   1.0  2.0  34.0  30.743     1.0  False"
      ]
     },
     "execution_count": 139,
     "metadata": {},
     "output_type": "execute_result"
    }
   ],
   "source": [
    "df = pd.DataFrame({\n",
    "    'Race': [1.0, 2.0, 1.0, 1.0, 1.0, 1.0, 1.0, 1.0, 1.0, 1.0, 1.0, 1.0, 2.0, 1.0, 1.0, 1.0, 1.0, 1.0, 1.0, 1.0],\n",
    "    'Sex': [1.0, 2.0, 2.0, 2.0, 2.0, 2.0, 2.0, 2.0, 1.0, 1.0, 1.0, 2.0, 1.0, 2.0, 1.0, 1.0, 2.0, 1.0, 1.0, 2.0],\n",
    "    'Age': [43.0, 72.0, 4.0, 59.0, 34.0, 55.0, 41.0, 39.0, 6.0, 77.0, 67.0, 35.0, 45.0, 39.0, 32.0, 57.0, 99.0, 68.0, 47.0, 28.0],\n",
    "    'BMI': [25.803, 33.394, 20.278, 32.918, 30.743, 37.734, 23.725, 20.722, 19.452, 22.044, 17.481, 18.918, 28.578, 19.214, 23.562, 23.446, 21.872, 20.691, 25.471, 25.82],\n",
    "    'Smoker': [1.0, 0.0, 1.0, 0.0, 1.0, 1.0, 0.0, 1.0, 0.0, 1.0, 0.0, 1.0, 1.0, 0.0, 0.0, 0.0, 0.0, 0.0, 0.0, 1.0],\n",
    "    'Label': [False, True, False, False, False, True, False, False, False, False, True, False, False, False, False, False, False, False, True, False],\n",
    "})\n",
    "\n",
    "df.head()"
   ]
  },
  {
   "cell_type": "markdown",
   "id": "92cdcfa1",
   "metadata": {},
   "source": [
    "#### QA.1 (10 points)\n",
    "Complete the following function that calculates and returns the list of features based on their information gain."
   ]
  },
  {
   "cell_type": "code",
   "execution_count": 140,
   "id": "376c215b",
   "metadata": {},
   "outputs": [
    {
     "name": "stdout",
     "output_type": "stream",
     "text": [
      "['Age', 'BMI', 'Race', 'Smoker', 'Sex']\n"
     ]
    }
   ],
   "source": [
    "def feature_order(X_data, y_data):\n",
    "    '''\n",
    "    Calculate the best feature order\n",
    "    for training a decision tree based on\n",
    "    information gain.\n",
    "    Input:\n",
    "        X_data (pd.DataFrame) contains data features\n",
    "        y_data (pd.Series) contains the labels\n",
    "    Output:\n",
    "        order (list[str]): The `X_data` columns in the correct order\n",
    "    '''\n",
    "    order = list(X_data.columns)\n",
    "    igs = []\n",
    "    for i in range(len(order)):\n",
    "        features = X_data.iloc[:, i]\n",
    "        thresholds = np.unique(features)\n",
    "        thresholds = np.sort(thresholds)\n",
    "        thresholds = [(features[j] + features[j + 1]) / 2 for j in range(len(features) - 1)]\n",
    "        max_ig = 0\n",
    "        for threshold in thresholds:\n",
    "            ig = information_gain(X_data, y_data, i, threshold)\n",
    "            if ig > max_ig:\n",
    "                max_ig = ig\n",
    "        igs.append(max_ig)\n",
    "\n",
    "    igs = np.array(igs)\n",
    "    igs = np.argsort(igs)\n",
    "    counter = 0\n",
    "    for idx in igs:\n",
    "        order[counter] = df.columns[idx]\n",
    "        counter += 1\n",
    "    return order[::-1]\n",
    "\n",
    "def entropy(y):\n",
    "        if len(y) == 0:\n",
    "            return 0\n",
    "        prob = sum(y) / len(y)\n",
    "        if prob == 1 or prob == 0:\n",
    "            return 0\n",
    "        return -prob * log2(prob) - (1 - prob) * log2(1 - prob)\n",
    "\n",
    "def split(X, y, feature, threshold):  # TODO: check if this is correct\n",
    "    left_indexes = X.iloc[:, feature] <= threshold\n",
    "    right_indexes = ~left_indexes\n",
    "    X_left = X[left_indexes]\n",
    "    y_left = y[left_indexes]\n",
    "    X_right = X[right_indexes]\n",
    "    y_right = y[right_indexes]\n",
    "    return X_left, X_right, y_left, y_right\n",
    "\n",
    "def information_gain(X, y, feature, threshold):\n",
    "    X_left, X_right, y_left, y_right = split(X, y, feature, threshold)\n",
    "    H_y = entropy(y)\n",
    "    H_y_left = entropy(y_left)\n",
    "    H_y_right = entropy(y_right)\n",
    "    ig = H_y - (len(y_left) / len(y)) * H_y_left - (len(y_right) / len(y)) * H_y_right\n",
    "    return ig\n",
    "\n",
    "print(feature_order(df.iloc[:, :-1], df.Label))"
   ]
  },
  {
   "cell_type": "markdown",
   "id": "2e61bfeb",
   "metadata": {},
   "source": [
    "#### QA.2 (5 points)\n",
    "What are some of the effective approaches to prevent the tree from overfitting? (three approaches)"
   ]
  },
  {
   "attachments": {},
   "cell_type": "markdown",
   "id": "960950b9",
   "metadata": {},
   "source": [
    "<font color=#183364>\n",
    "    <i>\n",
    "        Answer.\n",
    "        <ol>\n",
    "            <li>Pruning the tree</li>\n",
    "            <li>Using Ensemble Methods Such as RandomForest</li>\n",
    "            <li>Boosting and Bagging</li>\n",
    "        </ol>\n",
    "    </i>\n",
    "</font>"
   ]
  },
  {
   "cell_type": "markdown",
   "id": "02158721",
   "metadata": {},
   "source": [
    "#### QA.3 (5 points)\n",
    "About the `Age` feature which is an integer-valued input attribute, how can a tree utilize it for classification? Write a small piece of code to find the answer for this specific column."
   ]
  },
  {
   "attachments": {},
   "cell_type": "markdown",
   "id": "1244b4fe",
   "metadata": {},
   "source": [
    "<font color=#183364>\n",
    "    <i>\n",
    "        I have already implemented it in the above code. we simply have to use the middle point beetween sorted feature values as theresholds for spliting the tree\n",
    "    </i>\n",
    "</font>"
   ]
  },
  {
   "cell_type": "code",
   "execution_count": 141,
   "id": "11d4beee",
   "metadata": {},
   "outputs": [
    {
     "name": "stdout",
     "output_type": "stream",
     "text": [
      "            IG\n",
      "57.5  0.032268\n",
      "38.0  0.117744\n",
      "31.5  0.052870\n",
      "46.5  0.275944\n",
      "44.5  0.236453\n",
      "48.0  0.091864\n",
      "40.0  0.170951\n",
      "22.5  0.034144\n",
      "41.5  0.201815\n",
      "72.0  0.034144\n",
      "51.0  0.091864\n",
      "42.0  0.201815\n",
      "35.5  0.117744\n",
      "78.0  0.016565\n",
      "83.5  0.016565\n",
      "37.5  0.117744\n"
     ]
    }
   ],
   "source": [
    "# Your code here\n",
    "feature = 'Age'\n",
    "feature_idx = df.columns.get_loc(feature)\n",
    "X_data = df.iloc[:, :-1]\n",
    "y_data = df.iloc[:, -1]\n",
    "features = X_data.iloc[:, feature_idx]\n",
    "thresholds = np.unique(features)\n",
    "thresholds = np.sort(thresholds)\n",
    "thresholds = [(features[j] + features[j + 1]) / 2 for j in range(len(features) - 1)]\n",
    "max_ig = 0\n",
    "dict_to_show = {}\n",
    "for threshold in thresholds:\n",
    "    ig = information_gain(X_data, y_data, feature_idx, threshold)\n",
    "    if ig > max_ig:\n",
    "        max_ig = ig\n",
    "    dict_to_show[threshold] = ig\n",
    "df_to_show = pd.DataFrame.from_dict(dict_to_show, orient='index', columns=['IG'])\n",
    "print(df_to_show)"
   ]
  },
  {
   "cell_type": "markdown",
   "id": "3ad880d0",
   "metadata": {},
   "source": [
    "### Part B (10 points)\n",
    "In this part you will learn more about [sklearn.tree.DecisionTreeClassifier](https://scikit-learn.org/stable/modules/generated/sklearn.tree.DecisionTreeClassifier.html) and use it to train a classifier and tune its parameters."
   ]
  },
  {
   "cell_type": "markdown",
   "id": "58925924",
   "metadata": {},
   "source": [
    "#### QB.1 (5 points)\n",
    "For measuring the _accuracy_ of your models, choose a subset of the given dataset as your validation set (Check out [sklearn.model_selection.train_test_split](https://scikit-learn.org/stable/modules/generated/sklearn.model_selection.train_test_split.html))."
   ]
  },
  {
   "cell_type": "code",
   "execution_count": 142,
   "id": "8ddd8cef",
   "metadata": {},
   "outputs": [
    {
     "name": "stdout",
     "output_type": "stream",
     "text": [
      "(12, 5) (8, 5) (12,) (8,)\n"
     ]
    }
   ],
   "source": [
    "# Your code here\n",
    "## Split the dataset\n",
    "X_train, X_test, y_train, y_test = train_test_split(df.iloc[:, :-1], df.iloc[:, -1], test_size=0.4, random_state=42)\n",
    "print(X_train.shape, X_test.shape, y_train.shape, y_test.shape)"
   ]
  },
  {
   "cell_type": "code",
   "execution_count": 143,
   "id": "b5c1b30f",
   "metadata": {},
   "outputs": [
    {
     "name": "stdout",
     "output_type": "stream",
     "text": [
      "Accuracy: 0.62\n"
     ]
    }
   ],
   "source": [
    "# Your code here\n",
    "## Set your own hyperparameters below, such as:\n",
    "dt_hyperparams = {\n",
    "    'min_samples_split': 2,\n",
    "    'criterion': 'entropy',\n",
    "    'max_depth': 2,\n",
    "    'min_samples_leaf': 2,\n",
    "    'max_leaf_nodes': 8,\n",
    "}\n",
    "dt_hyperparams = {'criterion': 'entropy', 'max_depth': 2, 'max_leaf_nodes': 8, 'min_samples_leaf': 2, 'min_samples_split': 2}\n",
    "model = DecisionTreeClassifier(**dt_hyperparams)\n",
    "model.fit(X_train, y_train)\n",
    "y_pred = model.predict(X_test)\n",
    "print('Accuracy: {:.2f}'.format(accuracy_score(y_test, y_pred)))"
   ]
  },
  {
   "cell_type": "markdown",
   "id": "bbe85fdf",
   "metadata": {},
   "source": [
    "#### QB.2 (5 points)\n",
    "Take a look at customizable and potentially useful input params of the model, define a range for each of their values, and use GridSearch (Feel free to implement/[import](https://scikit-learn.org/stable/modules/generated/sklearn.model_selection.GridSearchCV.html) it) and find a set of hyperparametetrs that work best among your candidates."
   ]
  },
  {
   "cell_type": "code",
   "execution_count": 144,
   "id": "89f4c704",
   "metadata": {},
   "outputs": [
    {
     "name": "stderr",
     "output_type": "stream",
     "text": [
      "C:\\Users\\hogo\\AppData\\Local\\Packages\\PythonSoftwareFoundation.Python.3.10_qbz5n2kfra8p0\\LocalCache\\local-packages\\Python310\\site-packages\\sklearn\\model_selection\\_split.py:676: UserWarning: The least populated class in y has only 2 members, which is less than n_splits=5.\n",
      "  warnings.warn(\n"
     ]
    },
    {
     "name": "stdout",
     "output_type": "stream",
     "text": [
      "{'criterion': 'entropy', 'max_depth': 2, 'max_leaf_nodes': 2, 'min_samples_leaf': 2, 'min_samples_split': 2}\n",
      "0.8666666666666666\n",
      "DecisionTreeClassifier(criterion='entropy', max_depth=2, max_leaf_nodes=2,\n",
      "                       min_samples_leaf=2)\n"
     ]
    }
   ],
   "source": [
    "# Your code here\n",
    "dt_hyperparams = {\n",
    "    'min_samples_split': [2, 3],\n",
    "    'criterion': ['entropy', 'gini'],\n",
    "    'max_depth': [2, 4, 6, 8, 10],\n",
    "    'min_samples_leaf': [2, 3, 4],\n",
    "    'max_leaf_nodes': [2, 6, 8]\n",
    "}\n",
    "\n",
    "model = DecisionTreeClassifier()\n",
    "hyper_param_cv = GridSearchCV(model, dt_hyperparams, cv=5, scoring='accuracy')\n",
    "hyper_param_cv.fit(X_train, y_train)\n",
    "print(hyper_param_cv.best_params_)\n",
    "print(hyper_param_cv.best_score_)\n",
    "print(hyper_param_cv.best_estimator_)"
   ]
  },
  {
   "attachments": {},
   "cell_type": "markdown",
   "id": "ef2f24c4",
   "metadata": {},
   "source": [
    "### The model achieved 87% accuracy"
   ]
  },
  {
   "cell_type": "markdown",
   "id": "9d3bc161",
   "metadata": {},
   "source": [
    "#### QB.3 (5 extra points)\n",
    "Visualize the tree splits and interpret it (Hint: Search about `IPython.display.Image`, `pydotplus`, `StringIO`, and `export_graphviz`)."
   ]
  },
  {
   "cell_type": "code",
   "execution_count": 145,
   "id": "3802bb95",
   "metadata": {},
   "outputs": [
    {
     "data": {
      "image/png": "[encoded data removed]",
      "text/plain": [
       "<Figure size 360x360 with 1 Axes>"
      ]
     },
     "metadata": {
      "needs_background": "light"
     },
     "output_type": "display_data"
    }
   ],
   "source": [
    "#I didnt visulaize the best model because it i wanted to show a tree with bigger depth the best model can use one nodel to classify all the data and has \n",
    "#depth of 1 and 86% accuracy\n",
    "X_data = df.iloc[:, :-1]\n",
    "y_data = df.iloc[:, -1]\n",
    "dt_hyperparams = {\n",
    "    'min_samples_split': 2,\n",
    "    'criterion': 'entropy',\n",
    "    'max_depth': 5,\n",
    "    'min_samples_leaf': 1,\n",
    "    'max_leaf_nodes': 4,\n",
    "}\n",
    "model = DecisionTreeClassifier(**dt_hyperparams)\n",
    "model.fit(X_train, y_train)\n",
    "y_pred = model.predict(X_test)\n",
    "fig = plt.figure(figsize=(5,5))\n",
    "_ = plot_tree(model, \n",
    "                   feature_names=X_data.columns,  \n",
    "                   filled=True)"
   ]
  }
 ],
 "metadata": {
  "kernelspec": {
   "display_name": "Python 3",
   "language": "python",
   "name": "python3"
  },
  "language_info": {
   "codemirror_mode": {
    "name": "ipython",
    "version": 3
   },
   "file_extension": ".py",
   "mimetype": "text/x-python",
   "name": "python",
   "nbconvert_exporter": "python",
   "pygments_lexer": "ipython3",
   "version": "3.10.9 (tags/v3.10.9:1dd9be6, Dec  6 2022, 20:01:21) [MSC v.1934 64 bit (AMD64)]"
  },
  "vscode": {
   "interpreter": {
    "hash": "cf4845f9c5db49e6b50e448e1fb3bccbd5812d4b276c05d452968423f04911ac"
   }
  }
 },
 "nbformat": 4,
 "nbformat_minor": 5
}
